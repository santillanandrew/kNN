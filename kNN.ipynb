{
  "nbformat": 4,
  "nbformat_minor": 0,
  "metadata": {
    "colab": {
      "name": "kNN.ipynb",
      "provenance": [],
      "authorship_tag": "ABX9TyMyXMQwi5JI5Hb2T4HfBb+z",
      "include_colab_link": true
    },
    "kernelspec": {
      "name": "python3",
      "display_name": "Python 3"
    }
  },
  "cells": [
    {
      "cell_type": "markdown",
      "metadata": {
        "id": "view-in-github",
        "colab_type": "text"
      },
      "source": [
        "<a href=\"https://colab.research.google.com/github/santillanandrew/kNN/blob/master/kNN.ipynb\" target=\"_parent\"><img src=\"https://colab.research.google.com/assets/colab-badge.svg\" alt=\"Open In Colab\"/></a>"
      ]
    },
    {
      "cell_type": "code",
      "metadata": {
        "id": "rABOFUzS6rsA",
        "colab_type": "code",
        "colab": {}
      },
      "source": [
        "import numpy as np\n",
        "import heapq as hpq\n",
        "import statistics as stats\n",
        "\n",
        "class kNN:\n",
        "\n",
        "  def __init__(self, data):\n",
        "    self.data = data\n",
        "    self.predictions = [] \n",
        "\n",
        "  # 'dist' calculates ||u-v||_p for vectors u, v\n",
        "  def dist(self, u, v, p):\n",
        "    diff = u - v\n",
        "    if p == 0:\n",
        "      return sum([elt != 0 for elt in diff])\n",
        "    elif p == np.inf:\n",
        "      return max(abs(diff))\n",
        "    else:\n",
        "      return sum([abs(elt)**p for elt in diff])**(1/p)\n",
        "\n",
        "  # 'predict' predicts output class with kNN algorithm\n",
        "  def predict(self, xin, k, p, model):\n",
        "    heap = [(np.NINF, None) for ind in range(k)]\n",
        "    for (x, y) in self.data:\n",
        "      d_x = self.dist(xin, x, p)\n",
        "      if d_x < abs(heap[0][0]):\n",
        "        hpq.heappushpop(heap, (-d_x, y))\n",
        "    \n",
        "    ykNN = [y for (_, y) in heap]\n",
        "    if model == 0: \n",
        "      # Classification\n",
        "      self.predictions.append((xin, stats.mode(ykNN)))\n",
        "    elif model == 1: \n",
        "      # Regression\n",
        "      ykNN = [float(y) for y in ykNN]\n",
        "      self.predictions.append((xin, stats.mean(ykNN)))"
      ],
      "execution_count": null,
      "outputs": []
    },
    {
      "cell_type": "code",
      "metadata": {
        "id": "ijMGNvj4dmcO",
        "colab_type": "code",
        "colab": {
          "base_uri": "https://localhost:8080/",
          "height": 51
        },
        "outputId": "10de1330-3438-43ad-a962-e776e5605907"
      },
      "source": [
        "from google.colab import drive\n",
        "from csv import reader\n",
        "import random\n",
        "\n",
        "# Load iris.csv\n",
        "drive.mount(\"/content/drive\", force_remount=True)\n",
        "raw_data = list()\n",
        "with open(\"/content/drive/My Drive/Colab Notebooks/iris.csv\", \"r\") as file:\n",
        "  csv_reader = reader(file)\n",
        "  for row in csv_reader:\n",
        "    raw_data.append(row)\n",
        "\n",
        "test_size = 25\n",
        "k = 3\n",
        "p = 2\n",
        "\n",
        "num_trials = 50 \n",
        "res = [0 for ind in range(num_trials)]\n",
        "for ind in range(num_trials):\n",
        "  random.shuffle(raw_data)\n",
        "\n",
        "  training_data = list()\n",
        "  for row in raw_data[:-test_size]:\n",
        "    x = np.array([float(attribute) for attribute in row[:-1]])\n",
        "    training_data.append((x, row[-1]))\n",
        "\n",
        "  testing_data = list()\n",
        "  for row in raw_data[-test_size:]:\n",
        "    x = np.array([float(attribute) for attribute in row[:-1]])\n",
        "    testing_data.append((x, row[-1]))\n",
        "\n",
        "  a = kNN(training_data)\n",
        "  for (x, _) in testing_data:\n",
        "    a.predict(x, k, p, 0)\n",
        "\n",
        "  res[ind] = sum([a.predictions[ind][1] == testing_data[ind][1] for ind in range(test_size)]) / test_size * 100\n",
        "  \n",
        "print(f\"Predictive accuracy over {num_trials} trials is {stats.mean(res)}%\")"
      ],
      "execution_count": 29,
      "outputs": [
        {
          "output_type": "stream",
          "text": [
            "Mounted at /content/drive\n",
            "Predictive accuracy over 50 trials is 96.4%\n"
          ],
          "name": "stdout"
        }
      ]
    }
  ]
}